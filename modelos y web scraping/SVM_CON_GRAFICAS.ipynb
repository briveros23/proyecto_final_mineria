{
  "nbformat": 4,
  "nbformat_minor": 0,
  "metadata": {
    "colab": {
      "provenance": []
    },
    "kernelspec": {
      "name": "python3",
      "display_name": "Python 3"
    },
    "language_info": {
      "name": "python"
    }
  },
  "cells": [
    {
      "cell_type": "markdown",
      "source": [
        "# Codigo entrada de datos\n"
      ],
      "metadata": {
        "id": "4mV5YFwC08Dy"
      }
    },
    {
      "cell_type": "code",
      "execution_count": null,
      "metadata": {
        "colab": {
          "base_uri": "https://localhost:8080/",
          "height": 592
        },
        "id": "h0vhSX-8bwr9",
        "outputId": "3887fdbe-afb2-4dd3-e0ad-cd330e25a85e"
      },
      "outputs": [
        {
          "output_type": "execute_result",
          "data": {
            "text/plain": [
              "       Unnamed: 0  Unnamed: 0.1 Unnamed: 0.1.1          elo  championName  \\\n",
              "0               0           0.0              0   DIAMOND IV          Ornn   \n",
              "1               1           1.0              1  DIAMOND III  FiddleSticks   \n",
              "2               2           2.0              2  PLATINUM II        Syndra   \n",
              "3               3           3.0              3  DIAMOND III      Tristana   \n",
              "4               4           4.0              4   DIAMOND IV         Taric   \n",
              "...           ...           ...            ...          ...           ...   \n",
              "28924       28924       14459.0           1569    unrancked          Pyke   \n",
              "28925       28925       14460.0           1570    unrancked   MissFortune   \n",
              "28926       28926       14461.0           1571    unrancked        Akshan   \n",
              "28927       28927       14462.0           1572    unrancked      MasterYi   \n",
              "28928       28928       14463.0           1573    unrancked           Lux   \n",
              "\n",
              "        win  kills  assists  deaths individualPosition  ...  \\\n",
              "0      True      3        6       5                TOP  ...   \n",
              "1      True      1       12       3             JUNGLE  ...   \n",
              "2      True      9        7       5             MIDDLE  ...   \n",
              "3      True      9        4       4             BOTTOM  ...   \n",
              "4      True      1       15       2            UTILITY  ...   \n",
              "...     ...    ...      ...     ...                ...  ...   \n",
              "28924  True      8       12       6            UTILITY  ...   \n",
              "28925  True      7        6       4            UTILITY  ...   \n",
              "28926  True      4        3       3             MIDDLE  ...   \n",
              "28927  True      4        1       3             JUNGLE  ...   \n",
              "28928  True      3        7       3            UTILITY  ...   \n",
              "\n",
              "       damageDealtToBuildings  damageDealtToObjectives  detectorWardsPlaced  \\\n",
              "0                        4010                    17599                    1   \n",
              "1                         775                    19359                    4   \n",
              "2                        3510                     8377                    0   \n",
              "3                       11702                    19619                    4   \n",
              "4                         486                     1611                    3   \n",
              "...                       ...                      ...                  ...   \n",
              "28924                    2326                     3954                    0   \n",
              "28925                    2969                     4964                    0   \n",
              "28926                    2660                     6525                    0   \n",
              "28927                     601                    28349                    0   \n",
              "28928                    1176                     2237                    0   \n",
              "\n",
              "       inhibitorTakedowns  neutralMinionsKilled  wardsKilled  wardsPlaced  \\\n",
              "0                       1                     4            8            9   \n",
              "1                       1                   128           12            4   \n",
              "2                       1                     4            6            9   \n",
              "3                       1                    20           10           11   \n",
              "4                       1                     0            8           23   \n",
              "...                   ...                   ...          ...          ...   \n",
              "28924                   0                     6            2            4   \n",
              "28925                   0                     0            0            7   \n",
              "28926                   0                     4            0            6   \n",
              "28927                   0                   116            0            5   \n",
              "28928                   0                     0            0            7   \n",
              "\n",
              "       visionScore  summoner2Id  summoner1Id  \n",
              "0               26           12            4  \n",
              "1               61            4           11  \n",
              "2               18            4           12  \n",
              "3               34            7            4  \n",
              "4               43            4           14  \n",
              "...            ...          ...          ...  \n",
              "28924           10            4            7  \n",
              "28925           11            7           14  \n",
              "28926            6            7           12  \n",
              "28927            8            4           11  \n",
              "28928           11            7            4  \n",
              "\n",
              "[28929 rows x 27 columns]"
            ],
            "text/html": [
              "\n",
              "  <div id=\"df-a0a249d8-f445-4306-9381-07d3092e8eeb\">\n",
              "    <div class=\"colab-df-container\">\n",
              "      <div>\n",
              "<style scoped>\n",
              "    .dataframe tbody tr th:only-of-type {\n",
              "        vertical-align: middle;\n",
              "    }\n",
              "\n",
              "    .dataframe tbody tr th {\n",
              "        vertical-align: top;\n",
              "    }\n",
              "\n",
              "    .dataframe thead th {\n",
              "        text-align: right;\n",
              "    }\n",
              "</style>\n",
              "<table border=\"1\" class=\"dataframe\">\n",
              "  <thead>\n",
              "    <tr style=\"text-align: right;\">\n",
              "      <th></th>\n",
              "      <th>Unnamed: 0</th>\n",
              "      <th>Unnamed: 0.1</th>\n",
              "      <th>Unnamed: 0.1.1</th>\n",
              "      <th>elo</th>\n",
              "      <th>championName</th>\n",
              "      <th>win</th>\n",
              "      <th>kills</th>\n",
              "      <th>assists</th>\n",
              "      <th>deaths</th>\n",
              "      <th>individualPosition</th>\n",
              "      <th>...</th>\n",
              "      <th>damageDealtToBuildings</th>\n",
              "      <th>damageDealtToObjectives</th>\n",
              "      <th>detectorWardsPlaced</th>\n",
              "      <th>inhibitorTakedowns</th>\n",
              "      <th>neutralMinionsKilled</th>\n",
              "      <th>wardsKilled</th>\n",
              "      <th>wardsPlaced</th>\n",
              "      <th>visionScore</th>\n",
              "      <th>summoner2Id</th>\n",
              "      <th>summoner1Id</th>\n",
              "    </tr>\n",
              "  </thead>\n",
              "  <tbody>\n",
              "    <tr>\n",
              "      <th>0</th>\n",
              "      <td>0</td>\n",
              "      <td>0.0</td>\n",
              "      <td>0</td>\n",
              "      <td>DIAMOND IV</td>\n",
              "      <td>Ornn</td>\n",
              "      <td>True</td>\n",
              "      <td>3</td>\n",
              "      <td>6</td>\n",
              "      <td>5</td>\n",
              "      <td>TOP</td>\n",
              "      <td>...</td>\n",
              "      <td>4010</td>\n",
              "      <td>17599</td>\n",
              "      <td>1</td>\n",
              "      <td>1</td>\n",
              "      <td>4</td>\n",
              "      <td>8</td>\n",
              "      <td>9</td>\n",
              "      <td>26</td>\n",
              "      <td>12</td>\n",
              "      <td>4</td>\n",
              "    </tr>\n",
              "    <tr>\n",
              "      <th>1</th>\n",
              "      <td>1</td>\n",
              "      <td>1.0</td>\n",
              "      <td>1</td>\n",
              "      <td>DIAMOND III</td>\n",
              "      <td>FiddleSticks</td>\n",
              "      <td>True</td>\n",
              "      <td>1</td>\n",
              "      <td>12</td>\n",
              "      <td>3</td>\n",
              "      <td>JUNGLE</td>\n",
              "      <td>...</td>\n",
              "      <td>775</td>\n",
              "      <td>19359</td>\n",
              "      <td>4</td>\n",
              "      <td>1</td>\n",
              "      <td>128</td>\n",
              "      <td>12</td>\n",
              "      <td>4</td>\n",
              "      <td>61</td>\n",
              "      <td>4</td>\n",
              "      <td>11</td>\n",
              "    </tr>\n",
              "    <tr>\n",
              "      <th>2</th>\n",
              "      <td>2</td>\n",
              "      <td>2.0</td>\n",
              "      <td>2</td>\n",
              "      <td>PLATINUM II</td>\n",
              "      <td>Syndra</td>\n",
              "      <td>True</td>\n",
              "      <td>9</td>\n",
              "      <td>7</td>\n",
              "      <td>5</td>\n",
              "      <td>MIDDLE</td>\n",
              "      <td>...</td>\n",
              "      <td>3510</td>\n",
              "      <td>8377</td>\n",
              "      <td>0</td>\n",
              "      <td>1</td>\n",
              "      <td>4</td>\n",
              "      <td>6</td>\n",
              "      <td>9</td>\n",
              "      <td>18</td>\n",
              "      <td>4</td>\n",
              "      <td>12</td>\n",
              "    </tr>\n",
              "    <tr>\n",
              "      <th>3</th>\n",
              "      <td>3</td>\n",
              "      <td>3.0</td>\n",
              "      <td>3</td>\n",
              "      <td>DIAMOND III</td>\n",
              "      <td>Tristana</td>\n",
              "      <td>True</td>\n",
              "      <td>9</td>\n",
              "      <td>4</td>\n",
              "      <td>4</td>\n",
              "      <td>BOTTOM</td>\n",
              "      <td>...</td>\n",
              "      <td>11702</td>\n",
              "      <td>19619</td>\n",
              "      <td>4</td>\n",
              "      <td>1</td>\n",
              "      <td>20</td>\n",
              "      <td>10</td>\n",
              "      <td>11</td>\n",
              "      <td>34</td>\n",
              "      <td>7</td>\n",
              "      <td>4</td>\n",
              "    </tr>\n",
              "    <tr>\n",
              "      <th>4</th>\n",
              "      <td>4</td>\n",
              "      <td>4.0</td>\n",
              "      <td>4</td>\n",
              "      <td>DIAMOND IV</td>\n",
              "      <td>Taric</td>\n",
              "      <td>True</td>\n",
              "      <td>1</td>\n",
              "      <td>15</td>\n",
              "      <td>2</td>\n",
              "      <td>UTILITY</td>\n",
              "      <td>...</td>\n",
              "      <td>486</td>\n",
              "      <td>1611</td>\n",
              "      <td>3</td>\n",
              "      <td>1</td>\n",
              "      <td>0</td>\n",
              "      <td>8</td>\n",
              "      <td>23</td>\n",
              "      <td>43</td>\n",
              "      <td>4</td>\n",
              "      <td>14</td>\n",
              "    </tr>\n",
              "    <tr>\n",
              "      <th>...</th>\n",
              "      <td>...</td>\n",
              "      <td>...</td>\n",
              "      <td>...</td>\n",
              "      <td>...</td>\n",
              "      <td>...</td>\n",
              "      <td>...</td>\n",
              "      <td>...</td>\n",
              "      <td>...</td>\n",
              "      <td>...</td>\n",
              "      <td>...</td>\n",
              "      <td>...</td>\n",
              "      <td>...</td>\n",
              "      <td>...</td>\n",
              "      <td>...</td>\n",
              "      <td>...</td>\n",
              "      <td>...</td>\n",
              "      <td>...</td>\n",
              "      <td>...</td>\n",
              "      <td>...</td>\n",
              "      <td>...</td>\n",
              "      <td>...</td>\n",
              "    </tr>\n",
              "    <tr>\n",
              "      <th>28924</th>\n",
              "      <td>28924</td>\n",
              "      <td>14459.0</td>\n",
              "      <td>1569</td>\n",
              "      <td>unrancked</td>\n",
              "      <td>Pyke</td>\n",
              "      <td>True</td>\n",
              "      <td>8</td>\n",
              "      <td>12</td>\n",
              "      <td>6</td>\n",
              "      <td>UTILITY</td>\n",
              "      <td>...</td>\n",
              "      <td>2326</td>\n",
              "      <td>3954</td>\n",
              "      <td>0</td>\n",
              "      <td>0</td>\n",
              "      <td>6</td>\n",
              "      <td>2</td>\n",
              "      <td>4</td>\n",
              "      <td>10</td>\n",
              "      <td>4</td>\n",
              "      <td>7</td>\n",
              "    </tr>\n",
              "    <tr>\n",
              "      <th>28925</th>\n",
              "      <td>28925</td>\n",
              "      <td>14460.0</td>\n",
              "      <td>1570</td>\n",
              "      <td>unrancked</td>\n",
              "      <td>MissFortune</td>\n",
              "      <td>True</td>\n",
              "      <td>7</td>\n",
              "      <td>6</td>\n",
              "      <td>4</td>\n",
              "      <td>UTILITY</td>\n",
              "      <td>...</td>\n",
              "      <td>2969</td>\n",
              "      <td>4964</td>\n",
              "      <td>0</td>\n",
              "      <td>0</td>\n",
              "      <td>0</td>\n",
              "      <td>0</td>\n",
              "      <td>7</td>\n",
              "      <td>11</td>\n",
              "      <td>7</td>\n",
              "      <td>14</td>\n",
              "    </tr>\n",
              "    <tr>\n",
              "      <th>28926</th>\n",
              "      <td>28926</td>\n",
              "      <td>14461.0</td>\n",
              "      <td>1571</td>\n",
              "      <td>unrancked</td>\n",
              "      <td>Akshan</td>\n",
              "      <td>True</td>\n",
              "      <td>4</td>\n",
              "      <td>3</td>\n",
              "      <td>3</td>\n",
              "      <td>MIDDLE</td>\n",
              "      <td>...</td>\n",
              "      <td>2660</td>\n",
              "      <td>6525</td>\n",
              "      <td>0</td>\n",
              "      <td>0</td>\n",
              "      <td>4</td>\n",
              "      <td>0</td>\n",
              "      <td>6</td>\n",
              "      <td>6</td>\n",
              "      <td>7</td>\n",
              "      <td>12</td>\n",
              "    </tr>\n",
              "    <tr>\n",
              "      <th>28927</th>\n",
              "      <td>28927</td>\n",
              "      <td>14462.0</td>\n",
              "      <td>1572</td>\n",
              "      <td>unrancked</td>\n",
              "      <td>MasterYi</td>\n",
              "      <td>True</td>\n",
              "      <td>4</td>\n",
              "      <td>1</td>\n",
              "      <td>3</td>\n",
              "      <td>JUNGLE</td>\n",
              "      <td>...</td>\n",
              "      <td>601</td>\n",
              "      <td>28349</td>\n",
              "      <td>0</td>\n",
              "      <td>0</td>\n",
              "      <td>116</td>\n",
              "      <td>0</td>\n",
              "      <td>5</td>\n",
              "      <td>8</td>\n",
              "      <td>4</td>\n",
              "      <td>11</td>\n",
              "    </tr>\n",
              "    <tr>\n",
              "      <th>28928</th>\n",
              "      <td>28928</td>\n",
              "      <td>14463.0</td>\n",
              "      <td>1573</td>\n",
              "      <td>unrancked</td>\n",
              "      <td>Lux</td>\n",
              "      <td>True</td>\n",
              "      <td>3</td>\n",
              "      <td>7</td>\n",
              "      <td>3</td>\n",
              "      <td>UTILITY</td>\n",
              "      <td>...</td>\n",
              "      <td>1176</td>\n",
              "      <td>2237</td>\n",
              "      <td>0</td>\n",
              "      <td>0</td>\n",
              "      <td>0</td>\n",
              "      <td>0</td>\n",
              "      <td>7</td>\n",
              "      <td>11</td>\n",
              "      <td>7</td>\n",
              "      <td>4</td>\n",
              "    </tr>\n",
              "  </tbody>\n",
              "</table>\n",
              "<p>28929 rows × 27 columns</p>\n",
              "</div>\n",
              "      <button class=\"colab-df-convert\" onclick=\"convertToInteractive('df-a0a249d8-f445-4306-9381-07d3092e8eeb')\"\n",
              "              title=\"Convert this dataframe to an interactive table.\"\n",
              "              style=\"display:none;\">\n",
              "        \n",
              "  <svg xmlns=\"http://www.w3.org/2000/svg\" height=\"24px\"viewBox=\"0 0 24 24\"\n",
              "       width=\"24px\">\n",
              "    <path d=\"M0 0h24v24H0V0z\" fill=\"none\"/>\n",
              "    <path d=\"M18.56 5.44l.94 2.06.94-2.06 2.06-.94-2.06-.94-.94-2.06-.94 2.06-2.06.94zm-11 1L8.5 8.5l.94-2.06 2.06-.94-2.06-.94L8.5 2.5l-.94 2.06-2.06.94zm10 10l.94 2.06.94-2.06 2.06-.94-2.06-.94-.94-2.06-.94 2.06-2.06.94z\"/><path d=\"M17.41 7.96l-1.37-1.37c-.4-.4-.92-.59-1.43-.59-.52 0-1.04.2-1.43.59L10.3 9.45l-7.72 7.72c-.78.78-.78 2.05 0 2.83L4 21.41c.39.39.9.59 1.41.59.51 0 1.02-.2 1.41-.59l7.78-7.78 2.81-2.81c.8-.78.8-2.07 0-2.86zM5.41 20L4 18.59l7.72-7.72 1.47 1.35L5.41 20z\"/>\n",
              "  </svg>\n",
              "      </button>\n",
              "      \n",
              "  <style>\n",
              "    .colab-df-container {\n",
              "      display:flex;\n",
              "      flex-wrap:wrap;\n",
              "      gap: 12px;\n",
              "    }\n",
              "\n",
              "    .colab-df-convert {\n",
              "      background-color: #E8F0FE;\n",
              "      border: none;\n",
              "      border-radius: 50%;\n",
              "      cursor: pointer;\n",
              "      display: none;\n",
              "      fill: #1967D2;\n",
              "      height: 32px;\n",
              "      padding: 0 0 0 0;\n",
              "      width: 32px;\n",
              "    }\n",
              "\n",
              "    .colab-df-convert:hover {\n",
              "      background-color: #E2EBFA;\n",
              "      box-shadow: 0px 1px 2px rgba(60, 64, 67, 0.3), 0px 1px 3px 1px rgba(60, 64, 67, 0.15);\n",
              "      fill: #174EA6;\n",
              "    }\n",
              "\n",
              "    [theme=dark] .colab-df-convert {\n",
              "      background-color: #3B4455;\n",
              "      fill: #D2E3FC;\n",
              "    }\n",
              "\n",
              "    [theme=dark] .colab-df-convert:hover {\n",
              "      background-color: #434B5C;\n",
              "      box-shadow: 0px 1px 3px 1px rgba(0, 0, 0, 0.15);\n",
              "      filter: drop-shadow(0px 1px 2px rgba(0, 0, 0, 0.3));\n",
              "      fill: #FFFFFF;\n",
              "    }\n",
              "  </style>\n",
              "\n",
              "      <script>\n",
              "        const buttonEl =\n",
              "          document.querySelector('#df-a0a249d8-f445-4306-9381-07d3092e8eeb button.colab-df-convert');\n",
              "        buttonEl.style.display =\n",
              "          google.colab.kernel.accessAllowed ? 'block' : 'none';\n",
              "\n",
              "        async function convertToInteractive(key) {\n",
              "          const element = document.querySelector('#df-a0a249d8-f445-4306-9381-07d3092e8eeb');\n",
              "          const dataTable =\n",
              "            await google.colab.kernel.invokeFunction('convertToInteractive',\n",
              "                                                     [key], {});\n",
              "          if (!dataTable) return;\n",
              "\n",
              "          const docLinkHtml = 'Like what you see? Visit the ' +\n",
              "            '<a target=\"_blank\" href=https://colab.research.google.com/notebooks/data_table.ipynb>data table notebook</a>'\n",
              "            + ' to learn more about interactive tables.';\n",
              "          element.innerHTML = '';\n",
              "          dataTable['output_type'] = 'display_data';\n",
              "          await google.colab.output.renderOutput(dataTable, element);\n",
              "          const docLink = document.createElement('div');\n",
              "          docLink.innerHTML = docLinkHtml;\n",
              "          element.appendChild(docLink);\n",
              "        }\n",
              "      </script>\n",
              "    </div>\n",
              "  </div>\n",
              "  "
            ]
          },
          "metadata": {},
          "execution_count": 1
        }
      ],
      "source": [
        "import pandas as pd\n",
        "from sklearn.model_selection import train_test_split\n",
        "from sklearn.metrics import confusion_matrix\n",
        "\n",
        "\n",
        "Datos= pd.read_csv(\"basefinalArreglada.csv\")\n",
        "Datos"
      ]
    },
    {
      "cell_type": "markdown",
      "source": [
        "# Grafica TOP"
      ],
      "metadata": {
        "id": "8gdLOxUX1BdU"
      }
    },
    {
      "cell_type": "markdown",
      "source": [
        "Se prepara la base de datos con los individuos \"TOP\"\n"
      ],
      "metadata": {
        "id": "DLgBtbPU3Cst"
      }
    },
    {
      "cell_type": "code",
      "source": [
        "TOP=Datos.loc[Datos[\"individualPosition\"]==\"TOP\"]\n",
        "TOP=TOP.replace({\"DIAMOND I\":\"DIAMOND\",\"DIAMOND II\":\"DIAMOND\",\"DIAMOND III\":\"DIAMOND\",\"DIAMOND IV\":\"DIAMOND\",\n",
        "                  \"PLATINUM I\":\"PLATINUM\",\"PLATINUM II\":\"PLATINUM\",\"PLATINUM III\":\"PLATINUM\",\"PLATINUM IV\":\"PLATINUM\",\n",
        "                  \"GOLD I\":\"GOLD\",\"GOLD II\":\"GOLD\",\"GOLD III\":\"GOLD\",\"GOLD IV\":\"GOLD\",\n",
        "                  \"SILVER I\":\"SILVER\",\"SILVER II\":\"SILVER\",\"SILVER III\":\"SILVER\",\"SILVER IV\":\"SILVER\",\n",
        "                  \"BRONZE I\":\"BRONZE\",\"BRONZE II\":\"BRONZE\",\"BRONZE III\":\"BRONZE\",\"BRONZE IV\":\"BRONZE\",\n",
        "                  \"IRON I\":\"IRON\",\"IRON II\":\"IRON\",\"IRON III\":\"IRON\",\"IRON IV\":\"IRON\"\n",
        "                  \n",
        "\n",
        "                  })"
      ],
      "metadata": {
        "id": "QUg3AdLm1ZaI"
      },
      "execution_count": null,
      "outputs": []
    },
    {
      "cell_type": "code",
      "source": [
        "X=TOP[[\"kills\",\"assists\",\"deaths\",\"totalMinionsKilled\",\"goldEarned\",\"dragonKills\",\n",
        "         \"totalDamageDealtToChampions\",\"totalDamageTaken\",\"turretTakedowns\",\"baronKills\",\n",
        "         \"damageDealtToBuildings\",\"damageDealtToObjectives\",\"detectorWardsPlaced\",\"inhibitorTakedowns\",\"neutralMinionsKilled\",\n",
        "         \"wardsKilled\",\"wardsPlaced\",\"visionScore\"]]\n",
        "y=TOP[[\"elo\"]]\n",
        "\n"
      ],
      "metadata": {
        "id": "b55Z3lVt1D4i"
      },
      "execution_count": null,
      "outputs": []
    },
    {
      "cell_type": "markdown",
      "source": [
        "#Preparacion de los datos con reduccion de la dimencionalidad "
      ],
      "metadata": {
        "id": "NEzXjF_Ax0_-"
      }
    },
    {
      "cell_type": "code",
      "source": [
        "# presentacion \n",
        "from sklearn.model_selection import train_test_split\n",
        "\n",
        "# separo train y prueba\n",
        "X_train, X_test, y_train, y_test =train_test_split(X, y,train_size=0.8,test_size=0.2)\n",
        "\n",
        "import numpy as np\n",
        "from sklearn.decomposition import PCA\n",
        "pca = PCA(n_components=10)\n",
        "pca.fit(X_train)\n",
        "print(pca.explained_variance_ratio_)\n",
        "print(pca.singular_values_)\n",
        "print(sum(pca.explained_variance_ratio_))\n",
        "x_train = pca.fit_transform(X_train)\n",
        "x_test = pca.fit_transform(X_test)\n",
        "print(len(x_test),len(x_train))"
      ],
      "metadata": {
        "id": "66BRgb2v1myA"
      },
      "execution_count": null,
      "outputs": []
    },
    {
      "cell_type": "markdown",
      "source": [
        "Defino el algoritmo del modelo"
      ],
      "metadata": {
        "id": "6P2WIAId3W7D"
      }
    },
    {
      "cell_type": "code",
      "source": [
        "# defino algoritmo\n",
        "\n",
        "from sklearn.svm import  SVC\n",
        "algoritmo = SVC(kernel=\"rbf\")"
      ],
      "metadata": {
        "id": "sQHwc76q1on7"
      },
      "execution_count": null,
      "outputs": []
    },
    {
      "cell_type": "markdown",
      "source": [
        "Se entrena el modelo de predicción"
      ],
      "metadata": {
        "id": "-50JwzFZ3Zhs"
      }
    },
    {
      "cell_type": "code",
      "source": [
        "# Entreno modelo\n",
        "algoritmo.fit(X_train, y_train)\n",
        "\n",
        "# realizo una prediccion\n",
        "\n",
        "y_pred = algoritmo.predict(X_test)"
      ],
      "metadata": {
        "colab": {
          "base_uri": "https://localhost:8080/"
        },
        "id": "el2V4sSz1q8R",
        "outputId": "dfe2b875-7492-4309-af46-c9fc326b0723"
      },
      "execution_count": null,
      "outputs": [
        {
          "output_type": "stream",
          "name": "stderr",
          "text": [
            "/usr/local/lib/python3.7/dist-packages/sklearn/utils/validation.py:993: DataConversionWarning: A column-vector y was passed when a 1d array was expected. Please change the shape of y to (n_samples, ), for example using ravel().\n",
            "  y = column_or_1d(y, warn=True)\n"
          ]
        }
      ]
    },
    {
      "cell_type": "code",
      "source": [
        "# Matriz de confusion \n",
        "\n",
        "Matriz = confusion_matrix(y_test,y_pred)\n",
        "print(Matriz)\n"
      ],
      "metadata": {
        "colab": {
          "base_uri": "https://localhost:8080/"
        },
        "id": "Rv_wJc5y1uzP",
        "outputId": "9d92f4d5-9a7c-4a76-cff0-c2bed4072644"
      },
      "execution_count": null,
      "outputs": [
        {
          "output_type": "stream",
          "name": "stdout",
          "text": [
            "[[ 31   0   0 120   0   0   0   0   0   0]\n",
            " [  0   0   0   6   0   0   0   0   0   0]\n",
            " [ 42   0   0 150   0   0   0   0   0   0]\n",
            " [ 34   0   1 212   0   0   0   0   0   0]\n",
            " [  6   0   0   7   0   0   0   0   0   0]\n",
            " [ 14   0   0  34   0   0   0   0   0   0]\n",
            " [ 10   0   0  56   0   0   0   0   0   0]\n",
            " [ 27   0   1 136   0   0   0   1   2   0]\n",
            " [ 32   0   0 141   0   0   0   0   0   0]\n",
            " [ 18   0   0  64   0   0   0   0   0   0]]\n"
          ]
        }
      ]
    },
    {
      "cell_type": "code",
      "source": [
        "from sklearn.metrics import precision_score\n",
        "presicion = precision_score(y_test, y_pred,average=\"micro\")\n",
        "\n",
        "print(presicion)"
      ],
      "metadata": {
        "colab": {
          "base_uri": "https://localhost:8080/"
        },
        "id": "kIUYFtT12DBL",
        "outputId": "3eeb401e-4931-4f00-b5e9-9076fff36618"
      },
      "execution_count": null,
      "outputs": [
        {
          "output_type": "stream",
          "name": "stdout",
          "text": [
            "0.2131004366812227\n"
          ]
        }
      ]
    },
    {
      "cell_type": "code",
      "source": [
        "from string import ascii_uppercase\n",
        "import pandas as pd\n",
        "import seaborn as sns\n",
        "import matplotlib.pyplot as plt\n",
        "\n",
        "columnas=[\"%s\" %(i) for i in list(TOP[\"elo\"].value_counts().keys().tolist())[0:10]]\n",
        "\n",
        "df_cm=pd.DataFrame(Matriz,index=columnas,columns=columnas)"
      ],
      "metadata": {
        "id": "PW4NZv122ILD"
      },
      "execution_count": null,
      "outputs": []
    },
    {
      "cell_type": "code",
      "source": [
        "grafica = sns.heatmap(df_cm,cbar=None,cmap=\"Blues\",annot=True)\n",
        "\n",
        "plt.ylabel(\"valores verdaderos\")\n",
        "plt.xlabel(\"predicciones\")\n",
        "plt.title(\"Confusion Matrix TOP\")\n",
        "grafica.set(xlabel=\"True Class\",ylabel=\"Predicted Class\")\n",
        "plt.show()"
      ],
      "metadata": {
        "colab": {
          "base_uri": "https://localhost:8080/",
          "height": 369
        },
        "id": "iIAfe5HB2UAO",
        "outputId": "aa448c13-1781-4bd0-d798-a74415a0f03f"
      },
      "execution_count": null,
      "outputs": [
        {
          "output_type": "display_data",
          "data": {
            "text/plain": [
              "<Figure size 432x288 with 1 Axes>"
            ],
            "image/png": "[encoded data removed]"
          },
          "metadata": {
            "needs_background": "light"
          }
        }
      ]
    },
    {
      "cell_type": "markdown",
      "source": [
        "Así como se realizó con la categoria TOP, se hacen las demás divisiones con las categorias restantes."
      ],
      "metadata": {
        "id": "6dChQbdbuy4V"
      }
    },
    {
      "cell_type": "markdown",
      "source": [
        "# Graficas UTILITY"
      ],
      "metadata": {
        "id": "0cKMISIb2fWH"
      }
    },
    {
      "cell_type": "code",
      "source": [
        "UTILITY=Datos.loc[Datos[\"individualPosition\"]==\"UTILITY\"]\n",
        "UTILITY=UTILITY.replace({\"DIAMOND I\":\"DIAMOND\",\"DIAMOND II\":\"DIAMOND\",\"DIAMOND III\":\"DIAMOND\",\"DIAMOND IV\":\"DIAMOND\",\n",
        "                  \"PLATINUM I\":\"PLATINUM\",\"PLATINUM II\":\"PLATINUM\",\"PLATINUM III\":\"PLATINUM\",\"PLATINUM IV\":\"PLATINUM\",\n",
        "                  \"GOLD I\":\"GOLD\",\"GOLD II\":\"GOLD\",\"GOLD III\":\"GOLD\",\"GOLD IV\":\"GOLD\",\n",
        "                  \"SILVER I\":\"SILVER\",\"SILVER II\":\"SILVER\",\"SILVER III\":\"SILVER\",\"SILVER IV\":\"SILVER\",\n",
        "                  \"BRONZE I\":\"BRONZE\",\"BRONZE II\":\"BRONZE\",\"BRONZE III\":\"BRONZE\",\"BRONZE IV\":\"BRONZE\",\n",
        "                  \"IRON I\":\"IRON\",\"IRON II\":\"IRON\",\"IRON III\":\"IRON\",\"IRON IV\":\"IRON\"\n",
        "                  \n",
        "\n",
        "                  })\n",
        "\n",
        "\n",
        "X=UTILITY[[\"kills\",\"assists\",\"deaths\",\"totalMinionsKilled\",\"goldEarned\",\"dragonKills\",\n",
        "         \"totalDamageDealtToChampions\",\"totalDamageTaken\",\"turretTakedowns\",\"baronKills\",\n",
        "         \"damageDealtToBuildings\",\"damageDealtToObjectives\",\"detectorWardsPlaced\",\"inhibitorTakedowns\",\"neutralMinionsKilled\",\n",
        "         \"wardsKilled\",\"wardsPlaced\",\"visionScore\"]]\n",
        "y=UTILITY[[\"elo\"]]\n",
        "\n",
        "\n",
        "\n",
        "\n",
        "# presentacion \n",
        "from sklearn.model_selection import train_test_split\n",
        "\n",
        "# separo train y prueba\n",
        "X_train, X_test, y_train, y_test =train_test_split(X, y,train_size=0.8,test_size=0.2)\n",
        "\n",
        "\n",
        "import numpy as np\n",
        "from sklearn.decomposition import PCA\n",
        "pca = PCA(n_components=10)\n",
        "pca.fit(X_train)\n",
        "print(pca.explained_variance_ratio_)\n",
        "print(pca.singular_values_)\n",
        "print(sum(pca.explained_variance_ratio_))\n",
        "x_train = pca.fit_transform(X_train)\n",
        "x_test = pca.fit_transform(X_test)\n",
        "print(len(x_test),len(x_train))\n",
        "\n",
        "# defino algoritmo\n",
        "\n",
        "from sklearn.svm import  SVC\n",
        "algoritmo = SVC(kernel=\"rbf\")\n",
        "\n",
        "\n",
        "\n",
        "# Entreno modelo\n",
        "algoritmo.fit(X_train, y_train)\n",
        "\n",
        "# realizo una prediccion\n",
        "\n",
        "y_pred = algoritmo.predict(X_test)\n",
        "\n",
        "\n",
        "# Matriz de confusion \n",
        "\n",
        "Matriz = confusion_matrix(y_test,y_pred)\n",
        "print(Matriz)\n",
        "\n",
        "\n",
        "\n",
        "\n",
        "from sklearn.metrics import precision_score\n",
        "presicion = precision_score(y_test, y_pred,average=\"micro\")\n",
        "\n",
        "print(presicion)\n"
      ],
      "metadata": {
        "colab": {
          "base_uri": "https://localhost:8080/"
        },
        "id": "h62gcBAi2iwn",
        "outputId": "33e6b7ab-f01d-4096-d39d-78b7fffc4bf8"
      },
      "execution_count": null,
      "outputs": [
        {
          "output_type": "stream",
          "name": "stderr",
          "text": [
            "/usr/local/lib/python3.7/dist-packages/sklearn/utils/validation.py:993: DataConversionWarning: A column-vector y was passed when a 1d array was expected. Please change the shape of y to (n_samples, ), for example using ravel().\n",
            "  y = column_or_1d(y, warn=True)\n"
          ]
        },
        {
          "output_type": "stream",
          "name": "stdout",
          "text": [
            "[[ 20   0  47 107   0   0   0   0   9   0]\n",
            " [  0   0   2   1   0   0   0   0   0   0]\n",
            " [  5   0  81  81   0   0   0   0   6   0]\n",
            " [ 19   0  62 138   0   0   0   0   7   0]\n",
            " [  0   0   8   4   0   0   0   0   0   0]\n",
            " [  3   0  10  26   0   0   0   0   6   0]\n",
            " [  1   0  31  26   0   0   0   0   0   0]\n",
            " [  9   0  51  83   0   0   0   0   6   0]\n",
            " [  6   0  71 109   0   0   0   1  22   0]\n",
            " [  3   0  40  46   0   0   0   0   5   0]]\n",
            "0.2265625\n"
          ]
        }
      ]
    },
    {
      "cell_type": "code",
      "source": [
        "from string import ascii_uppercase\n",
        "import pandas as pd\n",
        "import seaborn as sns\n",
        "import matplotlib.pyplot as plt\n",
        "\n",
        "columnas=[\"%s\" %(i) for i in list(UTILITY[\"elo\"].value_counts().keys().tolist())[0:10]]\n",
        "\n",
        "df_cm=pd.DataFrame(Matriz,index=columnas,columns=columnas)\n",
        "\n",
        "\n",
        "\n",
        "\n",
        "grafica = sns.heatmap(df_cm,cbar=None,cmap=\"Blues\",annot=True)\n",
        "\n",
        "plt.ylabel(\"valores verdaderos\")\n",
        "plt.xlabel(\"predicciones\")\n",
        "plt.title(\"Confusion Matrix UTILITY\")\n",
        "grafica.set(xlabel=\"True Class\",ylabel=\"Predicted Class\")\n",
        "plt.show()"
      ],
      "metadata": {
        "colab": {
          "base_uri": "https://localhost:8080/",
          "height": 369
        },
        "id": "H2TuqlyM3gGq",
        "outputId": "3ac7dc98-48ec-4163-f4d3-2184733a440a"
      },
      "execution_count": null,
      "outputs": [
        {
          "output_type": "display_data",
          "data": {
            "text/plain": [
              "<Figure size 432x288 with 1 Axes>"
            ],
            "image/png": "[encoded data removed]"
          },
          "metadata": {
            "needs_background": "light"
          }
        }
      ]
    },
    {
      "cell_type": "markdown",
      "source": [
        "# Grafica JUNGLE"
      ],
      "metadata": {
        "id": "vHhtRWw756a7"
      }
    },
    {
      "cell_type": "code",
      "source": [
        "JUNGLE=Datos.loc[Datos[\"individualPosition\"]==\"JUNGLE\"]\n",
        "JUNGLE=JUNGLE.replace({\"DIAMOND I\":\"DIAMOND\",\"DIAMOND II\":\"DIAMOND\",\"DIAMOND III\":\"DIAMOND\",\"DIAMOND IV\":\"DIAMOND\",\n",
        "                  \"PLATINUM I\":\"PLATINUM\",\"PLATINUM II\":\"PLATINUM\",\"PLATINUM III\":\"PLATINUM\",\"PLATINUM IV\":\"PLATINUM\",\n",
        "                  \"GOLD I\":\"GOLD\",\"GOLD II\":\"GOLD\",\"GOLD III\":\"GOLD\",\"GOLD IV\":\"GOLD\",\n",
        "                  \"SILVER I\":\"SILVER\",\"SILVER II\":\"SILVER\",\"SILVER III\":\"SILVER\",\"SILVER IV\":\"SILVER\",\n",
        "                  \"BRONZE I\":\"BRONZE\",\"BRONZE II\":\"BRONZE\",\"BRONZE III\":\"BRONZE\",\"BRONZE IV\":\"BRONZE\",\n",
        "                  \"IRON I\":\"IRON\",\"IRON II\":\"IRON\",\"IRON III\":\"IRON\",\"IRON IV\":\"IRON\"\n",
        "                  \n",
        "\n",
        "                  })\n",
        "\n",
        "\n",
        "X=JUNGLE[[\"kills\",\"assists\",\"deaths\",\"totalMinionsKilled\",\"goldEarned\",\"dragonKills\",\n",
        "         \"totalDamageDealtToChampions\",\"totalDamageTaken\",\"turretTakedowns\",\"baronKills\",\n",
        "         \"damageDealtToBuildings\",\"damageDealtToObjectives\",\"detectorWardsPlaced\",\"inhibitorTakedowns\",\"neutralMinionsKilled\",\n",
        "         \"wardsKilled\",\"wardsPlaced\",\"visionScore\"]]\n",
        "y=JUNGLE[[\"elo\"]]\n",
        "\n",
        "\n",
        "\n",
        "\n",
        "# presentacion \n",
        "from sklearn.model_selection import train_test_split\n",
        "\n",
        "# separo train y prueba\n",
        "X_train, X_test, y_train, y_test =train_test_split(X, y,train_size=0.8,test_size=0.2)\n",
        "\n",
        "import numpy as np\n",
        "from sklearn.decomposition import PCA\n",
        "pca = PCA(n_components=10)\n",
        "pca.fit(X_train)\n",
        "print(pca.explained_variance_ratio_)\n",
        "print(pca.singular_values_)\n",
        "print(sum(pca.explained_variance_ratio_))\n",
        "x_train = pca.fit_transform(X_train)\n",
        "x_test = pca.fit_transform(X_test)\n",
        "print(len(x_test),len(x_train))\n",
        "\n",
        "\n",
        "# defino algoritmo\n",
        "\n",
        "from sklearn.svm import  SVC\n",
        "algoritmo = SVC(kernel=\"rbf\")\n",
        "\n",
        "\n",
        "\n",
        "# Entreno modelo\n",
        "algoritmo.fit(X_train, y_train)\n",
        "\n",
        "# realizo una prediccion\n",
        "\n",
        "y_pred = algoritmo.predict(X_test)\n",
        "\n",
        "\n",
        "# Matriz de confusion \n",
        "\n",
        "Matriz = confusion_matrix(y_test,y_pred)\n",
        "print(Matriz)\n",
        "\n",
        "\n",
        "\n",
        "\n",
        "from sklearn.metrics import precision_score\n",
        "presicion = precision_score(y_test, y_pred,average=\"micro\")\n",
        "\n",
        "print(presicion)"
      ],
      "metadata": {
        "colab": {
          "base_uri": "https://localhost:8080/"
        },
        "id": "Qg_PNjQ_5-rW",
        "outputId": "19a5ac60-4652-40bd-f713-fd548a636744"
      },
      "execution_count": null,
      "outputs": [
        {
          "output_type": "stream",
          "name": "stderr",
          "text": [
            "/usr/local/lib/python3.7/dist-packages/sklearn/utils/validation.py:993: DataConversionWarning: A column-vector y was passed when a 1d array was expected. Please change the shape of y to (n_samples, ), for example using ravel().\n",
            "  y = column_or_1d(y, warn=True)\n"
          ]
        },
        {
          "output_type": "stream",
          "name": "stdout",
          "text": [
            "[[ 61   0  54  67   0   0   0   0   1   0]\n",
            " [  1   0   0   2   0   0   0   0   0   0]\n",
            " [ 38   0  67  58   0   0   0   0   4   0]\n",
            " [ 42   0  47 115   0   0   0   0   1   0]\n",
            " [  5   0  11   5   0   0   0   0   0   0]\n",
            " [ 24   0  12  26   0   0   0   0   0   0]\n",
            " [ 10   0  28  27   0   0   0   0   3   0]\n",
            " [ 42   0  56  91   0   0   0   0   2   0]\n",
            " [ 55   0  54  91   0   0   0   0   2   0]\n",
            " [ 35   0  14  46   0   0   0   0   4   0]]\n",
            "0.20399666944213155\n"
          ]
        }
      ]
    },
    {
      "cell_type": "code",
      "source": [
        "from string import ascii_uppercase\n",
        "import pandas as pd\n",
        "import seaborn as sns\n",
        "import matplotlib.pyplot as plt\n",
        "\n",
        "columnas=[\"%s\" %(i) for i in list(JUNGLE[\"elo\"].value_counts().keys().tolist())[0:10]]\n",
        "\n",
        "df_cm=pd.DataFrame(Matriz,index=columnas,columns=columnas)\n",
        "\n",
        "\n",
        "\n",
        "\n",
        "grafica = sns.heatmap(df_cm,cbar=None,cmap=\"Blues\",annot=True)\n",
        "\n",
        "plt.ylabel(\"valores verdaderos\")\n",
        "plt.xlabel(\"predicciones\")\n",
        "plt.title(\"Confusion Matrix JUNGLE\")\n",
        "grafica.set(xlabel=\"True Class\",ylabel=\"Predicted Class\")\n",
        "plt.show()"
      ],
      "metadata": {
        "colab": {
          "base_uri": "https://localhost:8080/",
          "height": 369
        },
        "id": "hIHQyfnj6MMZ",
        "outputId": "877f35af-4415-4e61-fc9e-410a8323b897"
      },
      "execution_count": null,
      "outputs": [
        {
          "output_type": "display_data",
          "data": {
            "text/plain": [
              "<Figure size 432x288 with 1 Axes>"
            ],
            "image/png": "[encoded data removed]"
          },
          "metadata": {
            "needs_background": "light"
          }
        }
      ]
    },
    {
      "cell_type": "markdown",
      "source": [
        "# Grafica MIDDLE"
      ],
      "metadata": {
        "id": "w00n380A7E6D"
      }
    },
    {
      "cell_type": "code",
      "source": [
        "MIDDLE=Datos.loc[Datos[\"individualPosition\"]==\"MIDDLE\"]\n",
        "MIDDLE=JUNGLE.replace({\"DIAMOND I\":\"DIAMOND\",\"DIAMOND II\":\"DIAMOND\",\"DIAMOND III\":\"DIAMOND\",\"DIAMOND IV\":\"DIAMOND\",\n",
        "                  \"PLATINUM I\":\"PLATINUM\",\"PLATINUM II\":\"PLATINUM\",\"PLATINUM III\":\"PLATINUM\",\"PLATINUM IV\":\"PLATINUM\",\n",
        "                  \"GOLD I\":\"GOLD\",\"GOLD II\":\"GOLD\",\"GOLD III\":\"GOLD\",\"GOLD IV\":\"GOLD\",\n",
        "                  \"SILVER I\":\"SILVER\",\"SILVER II\":\"SILVER\",\"SILVER III\":\"SILVER\",\"SILVER IV\":\"SILVER\",\n",
        "                  \"BRONZE I\":\"BRONZE\",\"BRONZE II\":\"BRONZE\",\"BRONZE III\":\"BRONZE\",\"BRONZE IV\":\"BRONZE\",\n",
        "                  \"IRON I\":\"IRON\",\"IRON II\":\"IRON\",\"IRON III\":\"IRON\",\"IRON IV\":\"IRON\"\n",
        "                  \n",
        "\n",
        "                  })\n",
        "\n",
        "\n",
        "X=MIDDLE[[\"kills\",\"assists\",\"deaths\",\"totalMinionsKilled\",\"goldEarned\",\"dragonKills\",\n",
        "         \"totalDamageDealtToChampions\",\"totalDamageTaken\",\"turretTakedowns\",\"baronKills\",\n",
        "         \"damageDealtToBuildings\",\"damageDealtToObjectives\",\"detectorWardsPlaced\",\"inhibitorTakedowns\",\"neutralMinionsKilled\",\n",
        "         \"wardsKilled\",\"wardsPlaced\",\"visionScore\"]]\n",
        "y=MIDDLE[[\"elo\"]]\n",
        "\n",
        "\n",
        "\n",
        "\n",
        "# presentacion \n",
        "from sklearn.model_selection import train_test_split\n",
        "\n",
        "# separo train y prueba\n",
        "X_train, X_test, y_train, y_test =train_test_split(X, y,train_size=0.8,test_size=0.2)\n",
        "\n",
        "import numpy as np\n",
        "from sklearn.decomposition import PCA\n",
        "pca = PCA(n_components=10)\n",
        "pca.fit(X_train)\n",
        "print(pca.explained_variance_ratio_)\n",
        "print(pca.singular_values_)\n",
        "print(sum(pca.explained_variance_ratio_))\n",
        "x_train = pca.fit_transform(X_train)\n",
        "x_test = pca.fit_transform(X_test)\n",
        "print(len(x_test),len(x_train))\n",
        "\n",
        "\n",
        "# defino algoritmo\n",
        "\n",
        "from sklearn.svm import  SVC\n",
        "algoritmo = SVC(kernel=\"rbf\")\n",
        "\n",
        "\n",
        "\n",
        "# Entreno modelo\n",
        "algoritmo.fit(X_train, y_train)\n",
        "\n",
        "# realizo una prediccion\n",
        "\n",
        "y_pred = algoritmo.predict(X_test)\n",
        "\n",
        "\n",
        "# Matriz de confusion \n",
        "\n",
        "Matriz = confusion_matrix(y_test,y_pred)\n",
        "print(Matriz)\n",
        "\n",
        "\n",
        "\n",
        "\n",
        "from sklearn.metrics import precision_score\n",
        "presicion = precision_score(y_test, y_pred,average=\"micro\")\n",
        "\n",
        "print(presicion)"
      ],
      "metadata": {
        "colab": {
          "base_uri": "https://localhost:8080/"
        },
        "id": "dP6Hi5Za7JG7",
        "outputId": "69151783-0cf7-4db2-a19e-bdfdeb7d8e14"
      },
      "execution_count": null,
      "outputs": [
        {
          "output_type": "stream",
          "name": "stderr",
          "text": [
            "/usr/local/lib/python3.7/dist-packages/sklearn/utils/validation.py:993: DataConversionWarning: A column-vector y was passed when a 1d array was expected. Please change the shape of y to (n_samples, ), for example using ravel().\n",
            "  y = column_or_1d(y, warn=True)\n"
          ]
        },
        {
          "output_type": "stream",
          "name": "stdout",
          "text": [
            "[[ 53   0  45  59   0   0   0  11   7   0]\n",
            " [  4   0   2   2   0   0   0   0   0   0]\n",
            " [ 41   0  71  55   0   0   0   9  11   0]\n",
            " [ 46   0  43 115   0   0   0  11   9   0]\n",
            " [  2   0   9   2   0   0   0   1   1   0]\n",
            " [ 21   0   8  21   0   0   0   2   3   0]\n",
            " [ 10   0  25  21   0   0   0   3   1   0]\n",
            " [ 38   0  42  75   0   0   0  13   6   0]\n",
            " [ 56   0  51  79   0   0   0  11   8   0]\n",
            " [ 33   0  18  33   0   0   0   6   8   0]]\n",
            "0.21648626144879268\n"
          ]
        }
      ]
    },
    {
      "cell_type": "code",
      "source": [
        "from string import ascii_uppercase\n",
        "import pandas as pd\n",
        "import seaborn as sns\n",
        "import matplotlib.pyplot as plt\n",
        "\n",
        "columnas=[\"%s\" %(i) for i in list(MIDDLE[\"elo\"].value_counts().keys().tolist())[0:10]]\n",
        "\n",
        "df_cm=pd.DataFrame(Matriz,index=columnas,columns=columnas)\n",
        "\n",
        "\n",
        "\n",
        "\n",
        "grafica = sns.heatmap(df_cm,cbar=None,cmap=\"Blues\",annot=True)\n",
        "\n",
        "plt.ylabel(\"valores verdaderos\")\n",
        "plt.xlabel(\"predicciones\")\n",
        "plt.title(\"Confusion Matrix MIDDLE\")\n",
        "grafica.set(xlabel=\"True Class\",ylabel=\"Predicted Class\")\n",
        "plt.show()"
      ],
      "metadata": {
        "colab": {
          "base_uri": "https://localhost:8080/",
          "height": 369
        },
        "id": "9ooJJqk47Q0h",
        "outputId": "f734a93c-5973-4969-a198-490c01cae98a"
      },
      "execution_count": null,
      "outputs": [
        {
          "output_type": "display_data",
          "data": {
            "text/plain": [
              "<Figure size 432x288 with 1 Axes>"
            ],
            "image/png": "[encoded data removed]"
          },
          "metadata": {
            "needs_background": "light"
          }
        }
      ]
    },
    {
      "cell_type": "markdown",
      "source": [
        "# Grafica BOTTOM"
      ],
      "metadata": {
        "id": "40mma-vy8K97"
      }
    },
    {
      "cell_type": "code",
      "source": [
        "BOTTOM=Datos.loc[Datos[\"individualPosition\"]==\"BOTTOM\"]\n",
        "BOTTOM=BOTTOM.replace({\"DIAMOND I\":\"DIAMOND\",\"DIAMOND II\":\"DIAMOND\",\"DIAMOND III\":\"DIAMOND\",\"DIAMOND IV\":\"DIAMOND\",\n",
        "                  \"PLATINUM I\":\"PLATINUM\",\"PLATINUM II\":\"PLATINUM\",\"PLATINUM III\":\"PLATINUM\",\"PLATINUM IV\":\"PLATINUM\",\n",
        "                  \"GOLD I\":\"GOLD\",\"GOLD II\":\"GOLD\",\"GOLD III\":\"GOLD\",\"GOLD IV\":\"GOLD\",\n",
        "                  \"SILVER I\":\"SILVER\",\"SILVER II\":\"SILVER\",\"SILVER III\":\"SILVER\",\"SILVER IV\":\"SILVER\",\n",
        "                  \"BRONZE I\":\"BRONZE\",\"BRONZE II\":\"BRONZE\",\"BRONZE III\":\"BRONZE\",\"BRONZE IV\":\"BRONZE\",\n",
        "                  \"IRON I\":\"IRON\",\"IRON II\":\"IRON\",\"IRON III\":\"IRON\",\"IRON IV\":\"IRON\"\n",
        "                  \n",
        "\n",
        "                  })\n",
        "\n",
        "\n",
        "X=BOTTOM[[\"kills\",\"assists\",\"deaths\",\"totalMinionsKilled\",\"goldEarned\",\"dragonKills\",\n",
        "         \"totalDamageDealtToChampions\",\"totalDamageTaken\",\"turretTakedowns\",\"baronKills\",\n",
        "         \"damageDealtToBuildings\",\"damageDealtToObjectives\",\"detectorWardsPlaced\",\"inhibitorTakedowns\",\"neutralMinionsKilled\",\n",
        "         \"wardsKilled\",\"wardsPlaced\",\"visionScore\"]]\n",
        "y=BOTTOM[[\"elo\"]]\n",
        "\n",
        "\n",
        "\n",
        "\n",
        "# presentacion \n",
        "from sklearn.model_selection import train_test_split\n",
        "\n",
        "# separo train y prueba\n",
        "X_train, X_test, y_train, y_test =train_test_split(X, y,train_size=0.8,test_size=0.2)\n",
        "\n",
        "\n",
        "import numpy as np\n",
        "from sklearn.decomposition import PCA\n",
        "pca = PCA(n_components=10)\n",
        "pca.fit(X_train)\n",
        "print(pca.explained_variance_ratio_)\n",
        "print(pca.singular_values_)\n",
        "print(sum(pca.explained_variance_ratio_))\n",
        "x_train = pca.fit_transform(X_train)\n",
        "x_test = pca.fit_transform(X_test)\n",
        "print(len(x_test),len(x_train))\n",
        "\n",
        "# defino algoritmo\n",
        "\n",
        "from sklearn.svm import  SVC\n",
        "algoritmo = SVC(kernel=\"rbf\")\n",
        "\n",
        "\n",
        "\n",
        "# Entreno modelo\n",
        "algoritmo.fit(X_train, y_train)\n",
        "\n",
        "# realizo una prediccion\n",
        "\n",
        "y_pred = algoritmo.predict(X_test)\n",
        "\n",
        "\n",
        "# Matriz de confusion \n",
        "\n",
        "Matriz = confusion_matrix(y_test,y_pred)\n",
        "print(Matriz)\n",
        "\n",
        "\n",
        "\n",
        "\n",
        "from sklearn.metrics import precision_score\n",
        "presicion = precision_score(y_test, y_pred,average=\"micro\")\n",
        "\n",
        "print(presicion)"
      ],
      "metadata": {
        "colab": {
          "base_uri": "https://localhost:8080/"
        },
        "id": "axrpdumU8O1U",
        "outputId": "07a003a4-731b-4c50-f8ce-3ee743c4b548"
      },
      "execution_count": null,
      "outputs": [
        {
          "output_type": "stream",
          "name": "stderr",
          "text": [
            "/usr/local/lib/python3.7/dist-packages/sklearn/utils/validation.py:993: DataConversionWarning: A column-vector y was passed when a 1d array was expected. Please change the shape of y to (n_samples, ), for example using ravel().\n",
            "  y = column_or_1d(y, warn=True)\n"
          ]
        },
        {
          "output_type": "stream",
          "name": "stdout",
          "text": [
            "[[  0   0  21 117   0   0   0   9   2   0]\n",
            " [  0   0   1   4   0   0   0   0   0   0]\n",
            " [  0   0  34 135   0   0   0  20   1   0]\n",
            " [  0   0  34 171   0   0   0  16   5   0]\n",
            " [  0   0   2  13   0   0   0   1   0   0]\n",
            " [  1   0   5  47   0   0   0   3   0   0]\n",
            " [  0   0  17  38   0   0   0   7   1   0]\n",
            " [  0   0  38 120   0   0   0  23   3   0]\n",
            " [  2   0  30 131   0   0   0  11   0   0]\n",
            " [  0   0  11  54   0   0   0   4   0   0]]\n",
            "0.20141342756183744\n"
          ]
        }
      ]
    },
    {
      "cell_type": "code",
      "source": [
        "from string import ascii_uppercase\n",
        "import pandas as pd\n",
        "import seaborn as sns\n",
        "import matplotlib.pyplot as plt\n",
        "\n",
        "columnas=[\"%s\" %(i) for i in list(BOTTOM[\"elo\"].value_counts().keys().tolist())[0:10]]\n",
        "\n",
        "df_cm=pd.DataFrame(Matriz,index=columnas,columns=columnas)\n",
        "\n",
        "\n",
        "\n",
        "\n",
        "grafica = sns.heatmap(df_cm,cbar=None,cmap=\"Blues\",annot=True)\n",
        "\n",
        "plt.ylabel(\"valores verdaderos\")\n",
        "plt.xlabel(\"predicciones\")\n",
        "plt.title(\"Confusion Matrix BOTTOM\")\n",
        "grafica.set(xlabel=\"True Class\",ylabel=\"Predicted Class\")\n",
        "plt.show()"
      ],
      "metadata": {
        "colab": {
          "base_uri": "https://localhost:8080/",
          "height": 369
        },
        "id": "a3_40edR8Rzh",
        "outputId": "3a54b941-db70-4090-bbed-5d3f17b09e3c"
      },
      "execution_count": null,
      "outputs": [
        {
          "output_type": "display_data",
          "data": {
            "text/plain": [
              "<Figure size 432x288 with 1 Axes>"
            ],
            "image/png": "[encoded data removed]"
          },
          "metadata": {
            "needs_background": "light"
          }
        }
      ]
    }
  ]
}